{
 "cells": [
  {
   "cell_type": "code",
   "execution_count": 1,
   "metadata": {},
   "outputs": [
    {
     "name": "stderr",
     "output_type": "stream",
     "text": [
      "/home/tenzin/ML/env/lib/python3.5/site-packages/h5py/__init__.py:36: FutureWarning: Conversion of the second argument of issubdtype from `float` to `np.floating` is deprecated. In future, it will be treated as `np.float64 == np.dtype(float).type`.\n",
      "  from ._conv import register_converters as _register_converters\n",
      "Using TensorFlow backend.\n"
     ]
    }
   ],
   "source": [
    "import os\n",
    "import sys\n",
    "import math\n",
    "\n",
    "import h5py\n",
    "import pandas as pd\n",
    "import numpy as np\n",
    "from keras.preprocessing.image import ImageDataGenerator,array_to_img, img_to_array, load_img\n",
    "from keras.models import Sequential\n",
    "from keras.layers import Dropout, Flatten, Dense\n",
    "from keras import applications\n",
    "\n",
    "import matplotlib.pyplot as plt\n",
    "import seaborn as sns\n",
    "from tqdm import tqdm\n",
    "from PIL import Image\n",
    "\n",
    "%matplotlib inline"
   ]
  },
  {
   "cell_type": "markdown",
   "metadata": {},
   "source": [
    "### Let's discover the different labels"
   ]
  },
  {
   "cell_type": "code",
   "execution_count": 17,
   "metadata": {},
   "outputs": [
    {
     "name": "stdout",
     "output_type": "stream",
     "text": [
      "   image_id    label\n",
      "0  train_1a     rice\n",
      "1  train_1b    candy\n",
      "2  train_1c      jam\n",
      "3  train_1d   coffee\n",
      "4  train_2a  vinegar\n",
      "25 labels\n",
      "candy          242\n",
      "chocolate      199\n",
      "juice          196\n",
      "coffee         194\n",
      "tea            184\n",
      "cereal         181\n",
      "water          170\n",
      "jam            157\n",
      "spices         135\n",
      "honey          120\n",
      "chips          118\n",
      "soda           115\n",
      "pasta          112\n",
      "tomatosauce    111\n",
      "nuts           109\n",
      "milk           105\n",
      "cake           105\n",
      "vinegar        102\n",
      "rice            97\n",
      "oil             93\n",
      "beans           88\n",
      "sugar           77\n",
      "fish            71\n",
      "flour           71\n",
      "corn            63\n",
      "Name: label, dtype: int64\n"
     ]
    }
   ],
   "source": [
    "data_path = '../../data/a0409a00-8-dataset_dp'\n",
    "train = pd.read_csv(data_path + '/train.csv')\n",
    "print(train.head())\n",
    "test = pd.read_csv(data_path + '/test.csv')\n",
    "print(train.label.nunique(),'labels')\n",
    "label_counts = train.label.value_counts()\n",
    "print(label_counts)"
   ]
  },
  {
   "cell_type": "markdown",
   "metadata": {},
   "source": [
    "### Let's see the distribution of each class in the dataset"
   ]
  },
  {
   "cell_type": "code",
   "execution_count": 18,
   "metadata": {},
   "outputs": [
    {
     "data": {
      "image/png": "[encoded data removed]",
      "text/plain": [
       "<matplotlib.figure.Figure at 0x7ff061b11400>"
      ]
     },
     "metadata": {},
     "output_type": "display_data"
    }
   ],
   "source": [
    "plt.figure(figsize = (12,6))\n",
    "sns.barplot(label_counts.index, label_counts.values, alpha = 0.9)\n",
    "plt.xticks(rotation = 'vertical')\n",
    "plt.xlabel('Image Labels', fontsize =12)\n",
    "plt.ylabel('Counts', fontsize = 12)\n",
    "plt.show()"
   ]
  },
  {
   "cell_type": "markdown",
   "metadata": {},
   "source": [
    "### Put each training image into a sub folder corresponding to its label after converting to JPG format"
   ]
  },
  {
   "cell_type": "code",
   "execution_count": 19,
   "metadata": {},
   "outputs": [
    {
     "name": "stderr",
     "output_type": "stream",
     "text": [
      "100%|██████████| 3215/3215 [00:32<00:00, 99.28it/s] \n"
     ]
    }
   ],
   "source": [
    "for img in tqdm(train.values):\n",
    "    filename=img[0]\n",
    "    label=img[1]\n",
    "    src=os.path.join(data_path,'train_img',filename+'.png')\n",
    "    label_dir=os.path.join(data_path,'train',label)\n",
    "    dest=os.path.join(label_dir,filename+'.jpg')\n",
    "    im=Image.open(src)\n",
    "    rgb_im=im.convert('RGB')\n",
    "    if not os.path.exists(label_dir):\n",
    "        os.makedirs(label_dir)\n",
    "    rgb_im.save(dest)"
   ]
  },
  {
   "cell_type": "markdown",
   "metadata": {},
   "source": [
    "### Some agile data augmentation (to prevent overfitting) + class balance"
   ]
  },
  {
   "cell_type": "code",
   "execution_count": 20,
   "metadata": {},
   "outputs": [],
   "source": [
    "datagen = ImageDataGenerator(\n",
    "        rotation_range=40,\n",
    "        width_shift_range=0.2,\n",
    "        height_shift_range=0.2,\n",
    "        shear_range=0.2,\n",
    "        zoom_range=0.2,\n",
    "        horizontal_flip=True,\n",
    "        fill_mode='nearest')\n",
    "\n",
    "class_size=600\n",
    "\n",
    "src_train_dir=os.path.join(data_path,'train')\n",
    "dest_train_dir=os.path.join(data_path,'train')\n",
    "it=0\n",
    "for count in label_counts.values:\n",
    "    #nb of generations per image for this class label in order to make it size ~= class_size\n",
    "    ratio=math.floor(class_size/count)-1\n",
    "    # print(count,count*(ratio+1))\n",
    "    dest_lab_dir=os.path.join(dest_train_dir,label_counts.index[it])\n",
    "    src_lab_dir=os.path.join(src_train_dir,label_counts.index[it])\n",
    "    if not os.path.exists(dest_lab_dir):\n",
    "        os.makedirs(dest_lab_dir)\n",
    "    for file in os.listdir(src_lab_dir):\n",
    "        img=load_img(os.path.join(src_lab_dir,file))\n",
    "        #img.save(os.path.join(dest_lab_dir,file))\n",
    "        x=img_to_array(img) \n",
    "        x=x.reshape((1,) + x.shape)\n",
    "        i=0\n",
    "        for batch in datagen.flow(x, batch_size=1,save_to_dir=dest_lab_dir, save_format='jpg'):\n",
    "            i+=1\n",
    "            if i > ratio:\n",
    "                break \n",
    "    it=it+1"
   ]
  },
  {
   "cell_type": "markdown",
   "metadata": {},
   "source": [
    "### Let's check the new distribution"
   ]
  },
  {
   "cell_type": "code",
   "execution_count": 35,
   "metadata": {},
   "outputs": [
    {
     "data": {
      "image/png": "[encoded data removed]",
      "text/plain": [
       "<matplotlib.figure.Figure at 0x7ff06187a668>"
      ]
     },
     "metadata": {},
     "output_type": "display_data"
    }
   ],
   "source": [
    "labels = []\n",
    "labels_count = []\n",
    "for dirpath, dirnames, filenames in os.walk(dest_train_dir):\n",
    "    count = 0\n",
    "    label=''\n",
    "    for filename in [f for f in filenames if f.endswith(\".jpg\")]:\n",
    "        label = os.path.split(dirpath)[1]\n",
    "        count += 1\n",
    "    if count > 0:\n",
    "        labels.append(label)\n",
    "        labels_count.append(count)\n",
    "\n",
    "# sorted the labels\n",
    "sorted_zipped_labels_count = sorted(zip(labels, labels_count), key=lambda l: l[0])\n",
    "labels, labels_count = zip(*sorted_zipped_labels_count)\n",
    "labels = list(labels)\n",
    "labels_count = list(labels_count)\n",
    "\n",
    "plt.figure(figsize = (12,6))\n",
    "sns.barplot(labels, labels_count, alpha = 0.9)\n",
    "plt.xticks(rotation = 'vertical')\n",
    "plt.xlabel('Image Labels', fontsize =12)\n",
    "plt.ylabel('Counts', fontsize = 12)\n",
    "plt.show()"
   ]
  },
  {
   "cell_type": "code",
   "execution_count": null,
   "metadata": {
    "collapsed": true
   },
   "outputs": [],
   "source": []
  }
 ],
 "metadata": {
  "kernelspec": {
   "display_name": "Python 3",
   "language": "python",
   "name": "python3"
  },
  "language_info": {
   "codemirror_mode": {
    "name": "ipython",
    "version": 3
   },
   "file_extension": ".py",
   "mimetype": "text/x-python",
   "name": "python",
   "nbconvert_exporter": "python",
   "pygments_lexer": "ipython3",
   "version": "3.5.2"
  }
 },
 "nbformat": 4,
 "nbformat_minor": 2
}
